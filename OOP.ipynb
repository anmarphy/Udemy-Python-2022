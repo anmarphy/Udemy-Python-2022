{
 "cells": [
  {
   "cell_type": "code",
   "execution_count": 30,
   "metadata": {},
   "outputs": [],
   "source": [
    "class Student:\n",
    "    def __init__(self, new_name, new_grades):\n",
    "        self.name=new_name\n",
    "        self.grades=new_grades\n",
    "    \n",
    "    def __repr__(self):\n",
    "        return f'Student {self.name} was added'\n",
    "    \n",
    "    def aver(self):\n",
    "        return sum(self.grades)/len(self.grades)\n",
    "    \n",
    "    \n",
    "    "
   ]
  },
  {
   "cell_type": "code",
   "execution_count": 31,
   "metadata": {},
   "outputs": [
    {
     "data": {
      "text/plain": [
       "89.5"
      ]
     },
     "execution_count": 31,
     "metadata": {},
     "output_type": "execute_result"
    }
   ],
   "source": [
    "student_one=Student('Marce',[89,90])\n",
    "student_one.aver()"
   ]
  },
  {
   "cell_type": "code",
   "execution_count": 32,
   "metadata": {},
   "outputs": [
    {
     "name": "stdout",
     "output_type": "stream",
     "text": [
      "Student Marce was added\n"
     ]
    }
   ],
   "source": [
    "print(student_one)"
   ]
  },
  {
   "cell_type": "code",
   "execution_count": 9,
   "metadata": {},
   "outputs": [],
   "source": [
    "class Movie:\n",
    "    def __init__(self, new_name, new_director):\n",
    "        self.name = new_name\n",
    "        self.director = new_director\n",
    "\n",
    "    # let's try to add a method `print_info()` here:\n",
    "    def print_info(self):\n",
    "        return print(f'{self.name} by {self.director}')"
   ]
  },
  {
   "cell_type": "code",
   "execution_count": 10,
   "metadata": {},
   "outputs": [
    {
     "name": "stdout",
     "output_type": "stream",
     "text": [
      "The matrix by W\n"
     ]
    }
   ],
   "source": [
    "Movie('The matrix', 'W').print_info()"
   ]
  },
  {
   "cell_type": "code",
   "execution_count": 13,
   "metadata": {},
   "outputs": [
    {
     "data": {
      "text/plain": [
       "89.5"
      ]
     },
     "execution_count": 13,
     "metadata": {},
     "output_type": "execute_result"
    }
   ],
   "source": [
    "Student.aver(student_one)"
   ]
  },
  {
   "cell_type": "code",
   "execution_count": 57,
   "metadata": {},
   "outputs": [],
   "source": [
    "# We have a class called Club, and it is initialized like this (no need to change):\n",
    "class Club:\n",
    "    def __init__(self, name):\n",
    "        self.name = name\n",
    "        self.players = []\n",
    "\n",
    "    # define a method that allows us to access the i-th player in the club directly via indexing.\n",
    "    # for example, if some_club is an object of Club class,\n",
    "    # we can access the i-th player in some_club like this (you may assume i is always valid):\n",
    "    # some_club[i]\n",
    "    def __getitem__(self, i):\n",
    "        return self.players[i]\n",
    "\n",
    "\n",
    "    # define a method that returns a string representation of this object,\n",
    "    # which can be used to recreate this object.\n",
    "    # The return value should be in such format (beware of the spacing):\n",
    "    # Club {club_name}: {list_of_players}\n",
    "    # the club_name and list_of_players should be replaced by the according value of current object\n",
    "    def __repr__(self):\n",
    "        return f'Club {self.name}: {self.players}'\n",
    "\n",
    "    # define a method that returns a readable string representation of this object for the user.\n",
    "    # The return value should be in such format (beware of the spacing):\n",
    "    # Club {club_name} with {count_of_players} players\n",
    "    # the club_name and count_of_players should be replaced by the according value of current object\n",
    "    def __str__(self):\n",
    "        return f'Club {self.name} with {len(self.players)}'\n",
    "\n",
    "# You only need to finish the methods, we will take care of the object creation and call those methods for you!"
   ]
  },
  {
   "cell_type": "code",
   "execution_count": 61,
   "metadata": {},
   "outputs": [],
   "source": [
    "# We have a class called Club, and it is initialized like this (no need to change):\n",
    "class Club:\n",
    "    def __init__(self, name):\n",
    "        self.name = name\n",
    "        self.players = []\n",
    " \n",
    "    # optional\n",
    "    def __len__(self):\n",
    "        return len(self.players)\n",
    " \n",
    "    # define a method that allows us to access the i-th player in the club directly via indexing.\n",
    "    # for example, if some_club is an object of Club class,\n",
    "    # we can access the i-th player in some_club like this (you may assume i is always valid):\n",
    "    # some_club[i]\n",
    "    def __getitem__(self, i):\n",
    "        return self.players[i]\n",
    " \n",
    "    # define a method that returns a string representation of this object,\n",
    "    # which can be used to recreate this object.\n",
    "    # The return value should be in such format (beware of the spacing):\n",
    "    # Club {club_name}: {list_of_players}\n",
    "    # the club_name and list_of_players should be replaced by the according value of current object\n",
    "    def __repr__(self):\n",
    "        return f\"Club {self.name}: {self.players}\"\n",
    " \n",
    "    # define a method that returns a readable string representation of this object for the user.\n",
    "    # The return value should be in such format (beware of the spacing):\n",
    "    # Club {club_name} with {count_of_players} players\n",
    "    # the club_name and count_of_players should be replaced by the according value of current object\n",
    "    def __str__(self):\n",
    "        return f\"Club {self.name} with {len(self)} players\""
   ]
  },
  {
   "cell_type": "code",
   "execution_count": 62,
   "metadata": {},
   "outputs": [],
   "source": [
    "Club1=Club('Arsenal')"
   ]
  },
  {
   "cell_type": "code",
   "execution_count": 63,
   "metadata": {},
   "outputs": [],
   "source": [
    "Club1.players.append('W')"
   ]
  },
  {
   "cell_type": "code",
   "execution_count": 67,
   "metadata": {},
   "outputs": [],
   "source": [
    "class Student:\n",
    "    def __init__(self, name, school):\n",
    "        self.name=name\n",
    "        self.school=school\n",
    "        self.marks=[]\n",
    "        \n",
    "    def average(self):\n",
    "        return sum(self.marks)/len(self.marks)"
   ]
  },
  {
   "cell_type": "code",
   "execution_count": 68,
   "metadata": {},
   "outputs": [],
   "source": [
    "class WorkingStudent:\n",
    "    def __init__(self, name, school, salary):\n",
    "        self.name=name\n",
    "        self.school=school\n",
    "        self.marks=[]\n",
    "        self.salary=salary"
   ]
  },
  {
   "cell_type": "code",
   "execution_count": 89,
   "metadata": {},
   "outputs": [],
   "source": [
    "class WorkingStudent(Student):\n",
    "    def __init__(self, name, school, salary):\n",
    "        super().__init__(name, school)\n",
    "        self.salary=salary\n",
    "        \n",
    "    def weekly_salary(self):\n",
    "        return self.salary*40"
   ]
  },
  {
   "cell_type": "code",
   "execution_count": 91,
   "metadata": {},
   "outputs": [],
   "source": [
    "Marce=WorkingStudent('Marce', 'UN', 13)"
   ]
  },
  {
   "cell_type": "code",
   "execution_count": 92,
   "metadata": {},
   "outputs": [],
   "source": [
    "Marce.marks.append(10)"
   ]
  },
  {
   "cell_type": "code",
   "execution_count": 93,
   "metadata": {},
   "outputs": [
    {
     "data": {
      "text/plain": [
       "10.0"
      ]
     },
     "execution_count": 93,
     "metadata": {},
     "output_type": "execute_result"
    }
   ],
   "source": [
    "Marce.average()"
   ]
  },
  {
   "cell_type": "code",
   "execution_count": 94,
   "metadata": {},
   "outputs": [
    {
     "data": {
      "text/plain": [
       "520"
      ]
     },
     "execution_count": 94,
     "metadata": {},
     "output_type": "execute_result"
    }
   ],
   "source": [
    "Marce.weekly_salary()"
   ]
  },
  {
   "cell_type": "code",
   "execution_count": 1,
   "metadata": {},
   "outputs": [],
   "source": [
    "class MyCustomError(TypeError):\n",
    "    pass"
   ]
  },
  {
   "cell_type": "code",
   "execution_count": 4,
   "metadata": {},
   "outputs": [
    {
     "ename": "MyCustomError",
     "evalue": "An error happen",
     "output_type": "error",
     "traceback": [
      "\u001b[1;31m---------------------------------------------------------------------------\u001b[0m",
      "\u001b[1;31mMyCustomError\u001b[0m                             Traceback (most recent call last)",
      "\u001b[1;32m<ipython-input-4-f78fd83d21b9>\u001b[0m in \u001b[0;36m<module>\u001b[1;34m\u001b[0m\n\u001b[1;32m----> 1\u001b[1;33m \u001b[1;32mraise\u001b[0m \u001b[0mMyCustomError\u001b[0m\u001b[1;33m(\u001b[0m\u001b[1;34m'An error happen'\u001b[0m\u001b[1;33m)\u001b[0m\u001b[1;33m\u001b[0m\u001b[1;33m\u001b[0m\u001b[0m\n\u001b[0m",
      "\u001b[1;31mMyCustomError\u001b[0m: An error happen"
     ]
    }
   ],
   "source": [
    "raise MyCustomError('An error happen')"
   ]
  },
  {
   "cell_type": "code",
   "execution_count": 16,
   "metadata": {},
   "outputs": [],
   "source": [
    "class MyCustomError(TypeError):\n",
    "    '''\n",
    "    Good documentation practice\n",
    "    '''\n",
    "    def __init__(self, message, code):\n",
    "        super().__init__(f'Error code {code}: {message}')\n",
    "        self.code=code"
   ]
  },
  {
   "cell_type": "code",
   "execution_count": 17,
   "metadata": {},
   "outputs": [
    {
     "ename": "MyCustomError",
     "evalue": "Error code 500: An error happen",
     "output_type": "error",
     "traceback": [
      "\u001b[1;31m---------------------------------------------------------------------------\u001b[0m",
      "\u001b[1;31mMyCustomError\u001b[0m                             Traceback (most recent call last)",
      "\u001b[1;32m<ipython-input-17-688f07e7807a>\u001b[0m in \u001b[0;36m<module>\u001b[1;34m\u001b[0m\n\u001b[1;32m----> 1\u001b[1;33m \u001b[1;32mraise\u001b[0m \u001b[0mMyCustomError\u001b[0m\u001b[1;33m(\u001b[0m\u001b[1;34m'An error happen'\u001b[0m\u001b[1;33m,\u001b[0m\u001b[1;36m500\u001b[0m\u001b[1;33m)\u001b[0m\u001b[1;33m\u001b[0m\u001b[1;33m\u001b[0m\u001b[0m\n\u001b[0m",
      "\u001b[1;31mMyCustomError\u001b[0m: Error code 500: An error happen"
     ]
    }
   ],
   "source": [
    "raise MyCustomError('An error happen',500)"
   ]
  },
  {
   "cell_type": "code",
   "execution_count": 19,
   "metadata": {},
   "outputs": [
    {
     "data": {
      "text/plain": [
       "__main__.MyCustomError('Error code 101: Another error in life')"
      ]
     },
     "execution_count": 19,
     "metadata": {},
     "output_type": "execute_result"
    }
   ],
   "source": [
    "error=MyCustomError('Another error in life', 101)\n",
    "error"
   ]
  },
  {
   "cell_type": "code",
   "execution_count": 20,
   "metadata": {},
   "outputs": [
    {
     "data": {
      "text/plain": [
       "'\\n    Good documentation practice\\n    '"
      ]
     },
     "execution_count": 20,
     "metadata": {},
     "output_type": "execute_result"
    }
   ],
   "source": [
    "error.__doc__"
   ]
  },
  {
   "cell_type": "code",
   "execution_count": 15,
   "metadata": {},
   "outputs": [
    {
     "name": "stdout",
     "output_type": "stream",
     "text": [
      "\n",
      "Esto funciona para \n",
      "\n",
      "Multine strings :P\n",
      "\n"
     ]
    }
   ],
   "source": [
    "print('''\n",
    "Esto funciona para \n",
    "\n",
    "Multine strings :P\n",
    "''')"
   ]
  },
  {
   "cell_type": "code",
   "execution_count": null,
   "metadata": {},
   "outputs": [],
   "source": []
  }
 ],
 "metadata": {
  "kernelspec": {
   "display_name": "Python 3",
   "language": "python",
   "name": "python3"
  },
  "language_info": {
   "codemirror_mode": {
    "name": "ipython",
    "version": 3
   },
   "file_extension": ".py",
   "mimetype": "text/x-python",
   "name": "python",
   "nbconvert_exporter": "python",
   "pygments_lexer": "ipython3",
   "version": "3.8.5"
  }
 },
 "nbformat": 4,
 "nbformat_minor": 4
}
