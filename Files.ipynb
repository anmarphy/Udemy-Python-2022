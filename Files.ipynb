{
 "cells": [
  {
   "cell_type": "code",
   "execution_count": 45,
   "metadata": {},
   "outputs": [],
   "source": [
    "friend=open('Friends.txt', 'r')"
   ]
  },
  {
   "cell_type": "code",
   "execution_count": 46,
   "metadata": {},
   "outputs": [
    {
     "data": {
      "text/plain": [
       "<_io.TextIOWrapper name='Friends.txt' mode='r' encoding='cp1252'>"
      ]
     },
     "execution_count": 46,
     "metadata": {},
     "output_type": "execute_result"
    }
   ],
   "source": [
    "friend"
   ]
  },
  {
   "cell_type": "code",
   "execution_count": 47,
   "metadata": {},
   "outputs": [
    {
     "data": {
      "text/plain": [
       "'New name: Miguel'"
      ]
     },
     "execution_count": 47,
     "metadata": {},
     "output_type": "execute_result"
    }
   ],
   "source": [
    "friend.read()"
   ]
  },
  {
   "cell_type": "code",
   "execution_count": 42,
   "metadata": {},
   "outputs": [],
   "source": [
    "friend.close()"
   ]
  },
  {
   "cell_type": "code",
   "execution_count": 43,
   "metadata": {},
   "outputs": [],
   "source": [
    "writing_file=open('Friends.txt', 'w')"
   ]
  },
  {
   "cell_type": "code",
   "execution_count": 44,
   "metadata": {},
   "outputs": [
    {
     "name": "stdout",
     "output_type": "stream",
     "text": [
      "Enter a name:Miguel\n"
     ]
    }
   ],
   "source": [
    "name=input('Enter a name:')\n",
    "writing_file.write(f'New name: {name}')\n",
    "writing_file.close()"
   ]
  },
  {
   "cell_type": "code",
   "execution_count": 61,
   "metadata": {},
   "outputs": [],
   "source": [
    "writing_file=open('Friends.txt', 'w')\n",
    "writing_file.write(f'Juan, Carlos, Miguel, Jesus, Andres, Pablo')\n",
    "writing_file.close()"
   ]
  },
  {
   "cell_type": "code",
   "execution_count": 65,
   "metadata": {},
   "outputs": [
    {
     "name": "stdout",
     "output_type": "stream",
     "text": [
      "Agrega tus amigos cercanos separados por comaJuan, Pablo, Carlos\n"
     ]
    },
    {
     "data": {
      "text/plain": [
       "['Juan', ' Pablo', ' Carlos']"
      ]
     },
     "execution_count": 65,
     "metadata": {},
     "output_type": "execute_result"
    }
   ],
   "source": [
    "nearby_friends=list(input('Agrega tus amigos cercanos separados por coma: ').split(','))\n",
    "nearby_friends"
   ]
  },
  {
   "cell_type": "code",
   "execution_count": 75,
   "metadata": {},
   "outputs": [],
   "source": [
    "friends=open('Friends.txt', 'r')\n",
    "amigos=friends.read().split(',')\n",
    "friends.close()"
   ]
  },
  {
   "cell_type": "code",
   "execution_count": 76,
   "metadata": {},
   "outputs": [
    {
     "data": {
      "text/plain": [
       "['Juan', ' Carlos', ' Miguel', ' Jesus', ' Andres', ' Pablo']"
      ]
     },
     "execution_count": 76,
     "metadata": {},
     "output_type": "execute_result"
    }
   ],
   "source": [
    "amigos"
   ]
  },
  {
   "cell_type": "code",
   "execution_count": 81,
   "metadata": {},
   "outputs": [
    {
     "data": {
      "text/plain": [
       "{' Carlos', ' Pablo', 'Juan'}"
      ]
     },
     "execution_count": 81,
     "metadata": {},
     "output_type": "execute_result"
    }
   ],
   "source": [
    "set(nearby_friends).intersection(set(amigos))"
   ]
  },
  {
   "cell_type": "code",
   "execution_count": 117,
   "metadata": {},
   "outputs": [
    {
     "name": "stdout",
     "output_type": "stream",
     "text": [
      "1+1=2\n",
      "2+2=3\n",
      "44-15=2\n",
      "1x2=2\n"
     ]
    }
   ],
   "source": [
    "questions=open('questions.txt', 'r')\n",
    "question=questions.read().splitlines()\n",
    "\n",
    "questions=[]\n",
    "answers=[]\n",
    "for item in question:\n",
    "    question, answer=item.split('=')\n",
    "    questions.append(question)\n",
    "    answers.append(answer)\n",
    "\n",
    "results=[]    \n",
    "for question in questions:\n",
    "    result=input(f'{question}=')\n",
    "    results.append(result)\n",
    "\n",
    "correct=[]\n",
    "for i in range(len(results)):\n",
    "    if results[i]==answers[i]:\n",
    "        correct.append('1')\n",
    "    else:\n",
    "        continue\n",
    "    \n",
    "    \n",
    "m=len(questions)\n",
    "n=len(correct)\n",
    "\n",
    "result = open(\"result.txt\", \"w\") \n",
    "result.write(f\"Your final score is {n}/{m}.\")\n",
    "result.close()"
   ]
  },
  {
   "cell_type": "code",
   "execution_count": 107,
   "metadata": {},
   "outputs": [
    {
     "name": "stdout",
     "output_type": "stream",
     "text": [
      "1+1=3\n",
      "2+2=e\n",
      "44-15=f\n",
      "1x2=r\n"
     ]
    }
   ],
   "source": [
    "# read from questions.txt and append each line into a list\n",
    "questions = open(\"questions.txt\", \"r\")  # read from questions.txt\n",
    " \n",
    "# read all lines and get rid of line break for each line, then append each stripped line to a list\n",
    "question_list = [line.strip() for line in questions]\n",
    "questions.close()\n",
    " \n",
    "score = 0  # initialize score\n",
    "total = len(question_list)  # set total score\n",
    " \n",
    "for line in question_list:\n",
    "    # split equation with `=` into question and answer\n",
    "    q, a = line.split(\"=\")\n",
    " \n",
    "    # print question and wait for user to input their answer\n",
    "    ans = input(f\"{q}=\")\n",
    " \n",
    "    if a == ans:  # if user input matches answer\n",
    "        score += 1  # increase score\n",
    " \n",
    "result = open(\"result.txt\", \"w\")  # open result.txt\n",
    "# write final score to result.txt\n",
    "result.write(f\"Your final score is {score}/{total}.\")\n",
    "result.close()"
   ]
  },
  {
   "cell_type": "code",
   "execution_count": null,
   "metadata": {},
   "outputs": [],
   "source": []
  }
 ],
 "metadata": {
  "kernelspec": {
   "display_name": "Python 3",
   "language": "python",
   "name": "python3"
  },
  "language_info": {
   "codemirror_mode": {
    "name": "ipython",
    "version": 3
   },
   "file_extension": ".py",
   "mimetype": "text/x-python",
   "name": "python",
   "nbconvert_exporter": "python",
   "pygments_lexer": "ipython3",
   "version": "3.8.5"
  }
 },
 "nbformat": 4,
 "nbformat_minor": 4
}
